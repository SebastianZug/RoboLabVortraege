{
 "cells": [
  {
   "cell_type": "code",
   "execution_count": null,
   "id": "af118556-92ff-4a1b-a48f-e8056797e316",
   "metadata": {},
   "outputs": [],
   "source": [
    "import pandas as pd\n",
    "from pathlib import Path"
   ]
  },
  {
   "cell_type": "markdown",
   "id": "a1b90d55",
   "metadata": {},
   "source": [
    "# Auswertung alter Fotografien"
   ]
  },
  {
   "cell_type": "code",
   "execution_count": null,
   "id": "a7541355-3707-438c-8bae-e7242af0e849",
   "metadata": {
    "tags": [
     "parameters"
    ]
   },
   "outputs": [],
   "source": [
    "input_data_folder = \"../data/\"\n",
    "input_data_filename = \"AAB_cleaned.csv\""
   ]
  },
  {
   "cell_type": "code",
   "execution_count": null,
   "id": "3f65f161-1f64-4af9-bff2-2027b2daf6d9",
   "metadata": {},
   "outputs": [],
   "source": [
    "data_file = Path(input_data_folder) / input_data_filename\n",
    "df_cars = pd.read_csv(data_file, sep= \"\\t\")  \n",
    "\n",
    "# Variante für Google Colab\n",
    "# df_cars = pd.read_csv( \"https://raw.githubusercontent.com/SebastianZug/RoboLabVortraege/refs/heads/main/30_PythonAutomobile/project/data/AAB_cleaned.csv\", sep= \"\\t\")  "
   ]
  },
  {
   "cell_type": "code",
   "execution_count": null,
   "id": "daefea36-dc9f-4bdd-90fd-17577596c221",
   "metadata": {},
   "outputs": [],
   "source": [
    "df_cars.head()"
   ]
  },
  {
   "cell_type": "markdown",
   "id": "103f0131",
   "metadata": {},
   "source": [
    "## Wie können wir die Daten von Fotografien auswerten?\n",
    "\n",
    "https://vorkriegs-klassiker-rundschau.blog/dixi/\n",
    "\n",
    "https://i0.wp.com/vorkriegs-klassiker-rundschau.blog/wp-content/uploads/2020/11/dux_vor_1910_bei_kaub_am_rhein_galerie1.jpg?ssl=1"
   ]
  },
  {
   "cell_type": "code",
   "execution_count": null,
   "id": "4a24a8a5",
   "metadata": {},
   "outputs": [],
   "source": [
    "# Eleminiere die Lehrzeichen aus der Spalte Kennzeichen und fasse diesen string mit dem Inhalt der Spalte Nummer zusammen\n",
    "\n"
   ]
  },
  {
   "cell_type": "code",
   "execution_count": null,
   "id": "735350c6",
   "metadata": {},
   "outputs": [],
   "source": [
    "df_cars[df_cars[\"Schild\"] == \"CG 802\"]"
   ]
  },
  {
   "cell_type": "code",
   "execution_count": null,
   "id": "173f3664",
   "metadata": {},
   "outputs": [],
   "source": []
  }
 ],
 "metadata": {
  "celltoolbar": "Tags",
  "kernelspec": {
   "display_name": "non-package-mode-4CfxTFO5-py3.12",
   "language": "python",
   "name": "python3"
  },
  "language_info": {
   "codemirror_mode": {
    "name": "ipython",
    "version": 3
   },
   "file_extension": ".py",
   "mimetype": "text/x-python",
   "name": "python",
   "nbconvert_exporter": "python",
   "pygments_lexer": "ipython3",
   "version": "3.12.3"
  }
 },
 "nbformat": 4,
 "nbformat_minor": 5
}
