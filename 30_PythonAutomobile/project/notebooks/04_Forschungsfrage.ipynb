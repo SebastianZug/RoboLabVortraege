{
 "cells": [
  {
   "cell_type": "markdown",
   "id": "f478d5cc",
   "metadata": {},
   "source": [
    "# Diskussion"
   ]
  },
  {
   "cell_type": "code",
   "execution_count": null,
   "id": "af118556-92ff-4a1b-a48f-e8056797e316",
   "metadata": {},
   "outputs": [],
   "source": [
    "import pandas as pd\n",
    "from pathlib import Path"
   ]
  },
  {
   "cell_type": "code",
   "execution_count": null,
   "id": "3e0dc7b3",
   "metadata": {
    "tags": [
     "parameters"
    ]
   },
   "outputs": [],
   "source": [
    "input_data_folder = \"../data/\"\n",
    "input_data_filename = \"Kfz_pro_Ort.csv\"\n",
    "\n",
    "data_file = Path(input_data_folder) / input_data_filename"
   ]
  },
  {
   "cell_type": "code",
   "execution_count": null,
   "id": "3f65f161-1f64-4af9-bff2-2027b2daf6d9",
   "metadata": {},
   "outputs": [],
   "source": [
    "df_cars = pd.read_csv(data_file, sep= \"\\t\")  \n",
    "\n",
    "\n",
    "# Variante für Google Colab\n",
    "#df_cars = pd.read_csv( \"https://raw.githubusercontent.com/SebastianZug/RoboLabVortraege/refs/heads/main/30_PythonAutomobile/project/data/Kfz_pro_Ort.csv\", sep= \"\\t\")  \n",
    "\n",
    "df_cars"
   ]
  },
  {
   "cell_type": "markdown",
   "id": "aa798911",
   "metadata": {},
   "source": [
    "## Generierung von Metriken"
   ]
  },
  {
   "cell_type": "code",
   "execution_count": null,
   "id": "7ddf06a8",
   "metadata": {},
   "outputs": [],
   "source": [
    "# Wieviele Fahrzeuge bestehen pro Einwohner in einer Gemeinde?\n",
    "\n"
   ]
  }
 ],
 "metadata": {
  "celltoolbar": "Tags",
  "kernelspec": {
   "display_name": "non-package-mode-4CfxTFO5-py3.12",
   "language": "python",
   "name": "python3"
  },
  "language_info": {
   "codemirror_mode": {
    "name": "ipython",
    "version": 3
   },
   "file_extension": ".py",
   "mimetype": "text/x-python",
   "name": "python",
   "nbconvert_exporter": "python",
   "pygments_lexer": "ipython3",
   "version": "3.12.3"
  }
 },
 "nbformat": 4,
 "nbformat_minor": 5
}
