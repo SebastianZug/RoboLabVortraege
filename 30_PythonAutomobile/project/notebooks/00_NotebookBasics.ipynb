{
 "cells": [
  {
   "cell_type": "code",
   "execution_count": 2,
   "id": "af118556-92ff-4a1b-a48f-e8056797e316",
   "metadata": {},
   "outputs": [],
   "source": [
    "import pandas as pd\n",
    "from pathlib import Path"
   ]
  },
  {
   "cell_type": "code",
   "execution_count": null,
   "id": "0525aeb4",
   "metadata": {},
   "outputs": [],
   "source": [
    "# Lesen des Datensatzes aus einem lokalen Verzeichnis\n",
    "# Achtung das ist kein guter Stil! Die Pfadangabe erfolgt im \"Linux-Stil\" und ist nicht plattformunabhängig!\n",
    "\n",
    "df_cars = pd.read_csv( \"../data/AutomobilAdressBuch1909.csv\", sep= \"\\t\")  \n",
    "\n",
    "# Variante für Google Colab\n",
    "#df_cars = pd.read_csv( \"https://raw.githubusercontent.com/SebastianZug/RoboLabVortraege/refs/heads/main/30_PythonAutomobile/project/data/AutomobilAdressBuch1909.csv\", sep= \"\\t\")  "
   ]
  },
  {
   "cell_type": "code",
   "execution_count": null,
   "id": "f183ddc7",
   "metadata": {},
   "outputs": [],
   "source": [
    "# Ausgabe des Datensatze\n"
   ]
  },
  {
   "cell_type": "code",
   "execution_count": null,
   "id": "c3d13253",
   "metadata": {},
   "outputs": [],
   "source": [
    "# Ausgabe der Spaltennamen\n"
   ]
  },
  {
   "cell_type": "code",
   "execution_count": null,
   "id": "73cb2b5e",
   "metadata": {},
   "outputs": [],
   "source": [
    "# Selektieren von Spalten / Zeilen"
   ]
  },
  {
   "cell_type": "code",
   "execution_count": null,
   "id": "b9a241d2",
   "metadata": {},
   "outputs": [],
   "source": [
    "# Filtern der Daten nach einem bestimmten Kriterium\n"
   ]
  },
  {
   "cell_type": "code",
   "execution_count": 20,
   "id": "c46a63bc",
   "metadata": {},
   "outputs": [],
   "source": [
    "# Erste Analysen (describe, info, shape)\n"
   ]
  },
  {
   "cell_type": "markdown",
   "id": "5897e7d6",
   "metadata": {},
   "source": [
    "> Und jetzt mit Notizen"
   ]
  },
  {
   "cell_type": "markdown",
   "id": "8ccaec29",
   "metadata": {},
   "source": []
  }
 ],
 "metadata": {
  "celltoolbar": "Tags",
  "kernelspec": {
   "display_name": "non-package-mode-4CfxTFO5-py3.12",
   "language": "python",
   "name": "python3"
  },
  "language_info": {
   "codemirror_mode": {
    "name": "ipython",
    "version": 3
   },
   "file_extension": ".py",
   "mimetype": "text/x-python",
   "name": "python",
   "nbconvert_exporter": "python",
   "pygments_lexer": "ipython3",
   "version": "3.12.3"
  }
 },
 "nbformat": 4,
 "nbformat_minor": 5
}
