{
 "cells": [
  {
   "cell_type": "code",
   "execution_count": 6,
   "id": "af118556-92ff-4a1b-a48f-e8056797e316",
   "metadata": {},
   "outputs": [],
   "source": [
    "import pandas as pd\n",
    "from pathlib import Path"
   ]
  },
  {
   "cell_type": "markdown",
   "id": "a1b90d55",
   "metadata": {},
   "source": [
    "# Basisanalysen"
   ]
  },
  {
   "cell_type": "code",
   "execution_count": 7,
   "id": "a7541355-3707-438c-8bae-e7242af0e849",
   "metadata": {
    "tags": [
     "parameters"
    ]
   },
   "outputs": [],
   "source": [
    "input_data_folder = \"../data/\"\n",
    "input_data_filename = \"AAB_cleaned.csv\""
   ]
  },
  {
   "cell_type": "code",
   "execution_count": 8,
   "id": "3f65f161-1f64-4af9-bff2-2027b2daf6d9",
   "metadata": {},
   "outputs": [],
   "source": [
    "data_file = Path(input_data_folder) / input_data_filename\n",
    "df_cars = pd.read_csv(data_file, sep= \"\\t\")  \n",
    "\n",
    "# Variante für Google Colab\n",
    "# df_cars = pd.read_csv( \"https://raw.githubusercontent.com/SebastianZug/RoboLabVortraege/refs/heads/main/30_PythonAutomobile/project/data/AAB_cleaned.csv\", sep= \"\\t\")  "
   ]
  },
  {
   "cell_type": "code",
   "execution_count": 9,
   "id": "daefea36-dc9f-4bdd-90fd-17577596c221",
   "metadata": {},
   "outputs": [
    {
     "data": {
      "text/html": [
       "<div>\n",
       "<style scoped>\n",
       "    .dataframe tbody tr th:only-of-type {\n",
       "        vertical-align: middle;\n",
       "    }\n",
       "\n",
       "    .dataframe tbody tr th {\n",
       "        vertical-align: top;\n",
       "    }\n",
       "\n",
       "    .dataframe thead th {\n",
       "        text-align: right;\n",
       "    }\n",
       "</style>\n",
       "<table border=\"1\" class=\"dataframe\">\n",
       "  <thead>\n",
       "    <tr style=\"text-align: right;\">\n",
       "      <th></th>\n",
       "      <th>Seite</th>\n",
       "      <th>Familienname</th>\n",
       "      <th>Vorname</th>\n",
       "      <th>Kennzeichen</th>\n",
       "      <th>Nummer</th>\n",
       "      <th>Beruf_Stand</th>\n",
       "      <th>Wohnort</th>\n",
       "      <th>Adresse</th>\n",
       "      <th>Fzg_Typ</th>\n",
       "      <th>Kreis_Stadt</th>\n",
       "      <th>Firma</th>\n",
       "      <th>id</th>\n",
       "    </tr>\n",
       "  </thead>\n",
       "  <tbody>\n",
       "    <tr>\n",
       "      <th>0</th>\n",
       "      <td>103</td>\n",
       "      <td>Trautmann</td>\n",
       "      <td>Robert</td>\n",
       "      <td>S S</td>\n",
       "      <td>80</td>\n",
       "      <td>Privatmann</td>\n",
       "      <td>Arnstadt</td>\n",
       "      <td>Lindenallee 11</td>\n",
       "      <td>Lxw.</td>\n",
       "      <td>Arnstadt</td>\n",
       "      <td>-</td>\n",
       "      <td>17091280</td>\n",
       "    </tr>\n",
       "    <tr>\n",
       "      <th>1</th>\n",
       "      <td>420</td>\n",
       "      <td>Beckmann</td>\n",
       "      <td>Otto</td>\n",
       "      <td>I K</td>\n",
       "      <td>15</td>\n",
       "      <td>Molk.-Techniker</td>\n",
       "      <td>Breslau</td>\n",
       "      <td>N. Taschenstr. 25 a</td>\n",
       "      <td>KrR.</td>\n",
       "      <td>Provinz Schlesien</td>\n",
       "      <td>-</td>\n",
       "      <td>17101628</td>\n",
       "    </tr>\n",
       "    <tr>\n",
       "      <th>2</th>\n",
       "      <td>429</td>\n",
       "      <td>Barteczko</td>\n",
       "      <td>Karl</td>\n",
       "      <td>I K</td>\n",
       "      <td>439</td>\n",
       "      <td>Maschinist</td>\n",
       "      <td>Ratibor</td>\n",
       "      <td>Neuer Markt 5</td>\n",
       "      <td>KrR.</td>\n",
       "      <td>Provinz Schlesien</td>\n",
       "      <td>-</td>\n",
       "      <td>17101933</td>\n",
       "    </tr>\n",
       "    <tr>\n",
       "      <th>3</th>\n",
       "      <td>529</td>\n",
       "      <td>Leesen, v.</td>\n",
       "      <td>-</td>\n",
       "      <td>I P</td>\n",
       "      <td>233</td>\n",
       "      <td>Ingenieur</td>\n",
       "      <td>St. Margarethen</td>\n",
       "      <td>-</td>\n",
       "      <td>KrR.</td>\n",
       "      <td>Schleswig-Holstein</td>\n",
       "      <td>-</td>\n",
       "      <td>17105384</td>\n",
       "    </tr>\n",
       "    <tr>\n",
       "      <th>4</th>\n",
       "      <td>2</td>\n",
       "      <td>-</td>\n",
       "      <td>-</td>\n",
       "      <td>A</td>\n",
       "      <td>73</td>\n",
       "      <td>-</td>\n",
       "      <td>Stadt Dessau</td>\n",
       "      <td>Franzstr. 30</td>\n",
       "      <td>LW.</td>\n",
       "      <td>Stadt Dessau</td>\n",
       "      <td>Berlin-Anh.  Maschinenbau-Aktien-Gesellschaft</td>\n",
       "      <td>17088030</td>\n",
       "    </tr>\n",
       "  </tbody>\n",
       "</table>\n",
       "</div>"
      ],
      "text/plain": [
       "   Seite Familienname Vorname Kennzeichen Nummer      Beruf_Stand  \\\n",
       "0    103    Trautmann  Robert         S S     80       Privatmann   \n",
       "1    420     Beckmann    Otto         I K     15  Molk.-Techniker   \n",
       "2    429    Barteczko    Karl         I K    439       Maschinist   \n",
       "3    529   Leesen, v.       -         I P    233        Ingenieur   \n",
       "4      2            -       -           A     73                -   \n",
       "\n",
       "           Wohnort              Adresse Fzg_Typ         Kreis_Stadt  \\\n",
       "0         Arnstadt       Lindenallee 11    Lxw.            Arnstadt   \n",
       "1          Breslau  N. Taschenstr. 25 a    KrR.   Provinz Schlesien   \n",
       "2          Ratibor        Neuer Markt 5    KrR.   Provinz Schlesien   \n",
       "3  St. Margarethen                    -    KrR.  Schleswig-Holstein   \n",
       "4     Stadt Dessau         Franzstr. 30     LW.        Stadt Dessau   \n",
       "\n",
       "                                           Firma        id  \n",
       "0                                              -  17091280  \n",
       "1                                              -  17101628  \n",
       "2                                              -  17101933  \n",
       "3                                              -  17105384  \n",
       "4  Berlin-Anh.  Maschinenbau-Aktien-Gesellschaft  17088030  "
      ]
     },
     "execution_count": 9,
     "metadata": {},
     "output_type": "execute_result"
    }
   ],
   "source": [
    "df_cars.head()"
   ]
  },
  {
   "cell_type": "markdown",
   "id": "103f0131",
   "metadata": {},
   "source": [
    "## Welche 20 Berufe sind bei den Haltern am häufigsten vertreten?"
   ]
  },
  {
   "cell_type": "code",
   "execution_count": 12,
   "id": "6e522e9a",
   "metadata": {},
   "outputs": [
    {
     "data": {
      "text/plain": [
       "<Axes: xlabel='Beruf_Stand'>"
      ]
     },
     "execution_count": 12,
     "metadata": {},
     "output_type": "execute_result"
    },
    {
     "data": {
      "image/png": "[encoded data removed]",
      "text/plain": [
       "<Figure size 640x480 with 1 Axes>"
      ]
     },
     "metadata": {},
     "output_type": "display_data"
    }
   ],
   "source": [
    "# gib mir die häufigsten Werte in der Spalte Beruf_Stand aus\n",
    "\n",
    "df_cars[\"Beruf_Stand\"].value_counts().head(10).plot(kind='bar')"
   ]
  },
  {
   "cell_type": "markdown",
   "id": "77b255a2",
   "metadata": {},
   "source": [
    "> Welche Probeleme sehen Sie?"
   ]
  },
  {
   "cell_type": "markdown",
   "id": "38e49e81",
   "metadata": {},
   "source": [
    "## Welche Typen von Kategorien von KfZ wurden genutzt?\n",
    "\n",
    "https://wiki.genealogy.net/Deutsches_Automobil-Adre%C3%9Fbuch/Adressbuch_1909\n",
    "\n",
    "| Abkürzung | Erläuterung                                                                         |\n",
    "| --------- | ----------------------------------------------------------------------------------- |\n",
    "| BW.       | Wagen zu Berufszwecken                                                              |\n",
    "| DW.       | Wagen im öffentlichen Dienst                                                        |\n",
    "| FW.       |                                                                                     |\n",
    "| GW.       | Wagen zu Geschäftszwecken                                                           |\n",
    "| KW.       |                                                                                     |\n",
    "| KrR.      | Kraftrad                                                                            |\n",
    "| KrW.      | Kraftwagen                                                                          |\n",
    "| LW.       | Lastwagen                                                                           |\n",
    "| LxW.      | Wagen für Luxus-, Vergnügungs- und Sportszwecke                                     |\n",
    "| PW.       | Wagen der Fabriken und Händler für Probefahrten                                     |\n",
    "| TW.       | Taxameterdroschken und alle sonstigen im öffentlichen Fuhrverkehr verwendeten Wagen |"
   ]
  },
  {
   "cell_type": "code",
   "execution_count": 13,
   "id": "3b8e18ec",
   "metadata": {},
   "outputs": [
    {
     "data": {
      "text/plain": [
       "Fzg_Typ\n",
       "KrR.     21034\n",
       "Lxw.     10483\n",
       "GW.       3412\n",
       "-         2979\n",
       "BW.       2392\n",
       "KrW.      2049\n",
       "PW.       1294\n",
       "LW.       1055\n",
       "TW.        661\n",
       "DW.         41\n",
       "KW.         17\n",
       "2LW.        12\n",
       "2TW.         4\n",
       "PR.          3\n",
       "PrR.         2\n",
       "FW.          2\n",
       "2Lxw.        2\n",
       "W.           2\n",
       "(?)          1\n",
       "6LW.         1\n",
       "8LW.         1\n",
       "WW.          1\n",
       "KWR.         1\n",
       "3TW.         1\n",
       "9GW.         1\n",
       "7TW.         1\n",
       "3LW.         1\n",
       "PrW.         1\n",
       "2rW.         1\n",
       "Name: count, dtype: int64"
      ]
     },
     "execution_count": 13,
     "metadata": {},
     "output_type": "execute_result"
    }
   ],
   "source": [
    "df_cars.Fzg_Typ.value_counts()"
   ]
  },
  {
   "cell_type": "markdown",
   "id": "a257a59a",
   "metadata": {},
   "source": [
    "> Huch, hier scheint einiges im Argen zu liegen. Die Kategorien sind nicht einheitlich und es gibt viele Schreibfehler. Hier müssten wir erstmal Ordnung schaffen."
   ]
  },
  {
   "cell_type": "markdown",
   "id": "ce94f892",
   "metadata": {},
   "source": [
    "Trotzdem ganz interessant, dass es schon 1909 Taxameterdroschken gab. Wo war das?"
   ]
  },
  {
   "cell_type": "code",
   "execution_count": 14,
   "id": "32f04bae",
   "metadata": {},
   "outputs": [
    {
     "data": {
      "text/plain": [
       "Wohnort\n",
       "München         178\n",
       "Stuttgart        42\n",
       "Hamburg          34\n",
       "Breslau          30\n",
       "Nürnberg         26\n",
       "Düsseldorf       22\n",
       "Hannover         17\n",
       "Braunschweig     15\n",
       "Cöln             13\n",
       "Kiel             13\n",
       "Berlin           10\n",
       "Essen             9\n",
       "Cannstatt         7\n",
       "Duisburg          7\n",
       "Bonn              6\n",
       "Altenburg         6\n",
       "-                 5\n",
       "Dortmund          5\n",
       "Pforzheim         5\n",
       "Lübeck            5\n",
       "Name: count, dtype: int64"
      ]
     },
     "execution_count": 14,
     "metadata": {},
     "output_type": "execute_result"
    }
   ],
   "source": [
    "df_cars[df_cars.Fzg_Typ == \"TW.\"].Wohnort.value_counts().head(20)"
   ]
  },
  {
   "cell_type": "markdown",
   "id": "1850aed1",
   "metadata": {},
   "source": [
    "## Und in Freiberg?\n",
    "\n",
    "Welche Nutzungstypen von KfZ gab es in Freiberg? Und welche Berufe waren am häufigsten vertreten?"
   ]
  },
  {
   "cell_type": "code",
   "execution_count": 15,
   "id": "232e6147",
   "metadata": {},
   "outputs": [
    {
     "data": {
      "text/plain": [
       "Fzg_Typ\n",
       "KrR.    38\n",
       "KrW.     9\n",
       "-        7\n",
       "Name: count, dtype: int64"
      ]
     },
     "execution_count": 15,
     "metadata": {},
     "output_type": "execute_result"
    }
   ],
   "source": [
    "df_cars[df_cars.Wohnort == \"Freiberg\"].Fzg_Typ.value_counts()"
   ]
  },
  {
   "cell_type": "markdown",
   "id": "3b0a898e",
   "metadata": {},
   "source": [
    "Offensichtlich war Freiberg eine Motoradstadt :-)"
   ]
  },
  {
   "cell_type": "markdown",
   "id": "52aa5d61",
   "metadata": {},
   "source": []
  }
 ],
 "metadata": {
  "celltoolbar": "Tags",
  "kernelspec": {
   "display_name": "non-package-mode-4CfxTFO5-py3.12",
   "language": "python",
   "name": "python3"
  },
  "language_info": {
   "codemirror_mode": {
    "name": "ipython",
    "version": 3
   },
   "file_extension": ".py",
   "mimetype": "text/x-python",
   "name": "python",
   "nbconvert_exporter": "python",
   "pygments_lexer": "ipython3",
   "version": "3.12.3"
  }
 },
 "nbformat": 4,
 "nbformat_minor": 5
}
