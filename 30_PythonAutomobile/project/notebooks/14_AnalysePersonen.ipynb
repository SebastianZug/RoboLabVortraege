{
 "cells": [
  {
   "cell_type": "markdown",
   "id": "f478d5cc",
   "metadata": {},
   "source": [
    "# Suche nach Prominenten"
   ]
  },
  {
   "cell_type": "code",
   "execution_count": 3,
   "id": "af118556-92ff-4a1b-a48f-e8056797e316",
   "metadata": {},
   "outputs": [],
   "source": [
    "import pandas as pd\n",
    "from pathlib import Path\n",
    "import requests"
   ]
  },
  {
   "cell_type": "code",
   "execution_count": 4,
   "id": "3e0dc7b3",
   "metadata": {
    "tags": [
     "parameters"
    ]
   },
   "outputs": [],
   "source": [
    "input_data_folder = \"../data/\"\n",
    "input_data_filename = \"AAB_cleaned.csv\"\n",
    "output_data_filename = \"AAB_wikidata.csv\""
   ]
  },
  {
   "cell_type": "code",
   "execution_count": 5,
   "id": "3f65f161-1f64-4af9-bff2-2027b2daf6d9",
   "metadata": {},
   "outputs": [],
   "source": [
    "data_file = Path(input_data_folder) / input_data_filename\n",
    "df_cars = pd.read_csv(data_file, sep= \"\\t\")  \n",
    "\n",
    "# Variante für Google Colab\n",
    "# df_cars = pd.read_csv( \"https://raw.githubusercontent.com/SebastianZug/RoboLabVortraege/refs/heads/main/30_PythonAutomobile/project/data/AAB_cleaned.csv\", sep= \"\\t\")  "
   ]
  },
  {
   "cell_type": "markdown",
   "id": "d42cc12b",
   "metadata": {},
   "source": [
    "## Anfrage an Wikimedia API"
   ]
  },
  {
   "cell_type": "markdown",
   "id": "f5d47066",
   "metadata": {},
   "source": [
    "Beispieldaten\n",
    "\n",
    "http://www.wikidata.org/entity/Q937\n",
    "\n",
    "https://de.wikipedia.org/wiki/Albert_Einstein"
   ]
  },
  {
   "cell_type": "code",
   "execution_count": 6,
   "id": "40697de2",
   "metadata": {},
   "outputs": [],
   "source": [
    "def search_person_wikidata(first_name, last_name, residence=None, birth_year_min=1850, birth_year_max=1950):\n",
    "    endpoint_url = \"https://query.wikidata.org/sparql\"\n",
    "    \n",
    "    # Basis-Query erstellen\n",
    "    query = f\"\"\"\n",
    "    SELECT ?person ?personLabel ?birthDate ?deathDate ?residenceLabel ?occupationLabel ?article WHERE {{\n",
    "      ?person wdt:P31 wd:Q5;  # Instance of human\n",
    "              wdt:P735 ?givenName;  # Given name\n",
    "              wdt:P734 ?familyName.  # Family name\n",
    "      ?givenName rdfs:label \"{first_name}\"@en.\n",
    "      ?familyName rdfs:label \"{last_name}\"@en.\n",
    "      \n",
    "      OPTIONAL {{ ?person wdt:P569 ?birthDate. }}\n",
    "      OPTIONAL {{ ?person wdt:P570 ?deathDate. }}\n",
    "      OPTIONAL {{ ?person wdt:P551 ?residence. }}  # Residence\n",
    "      OPTIONAL {{ ?person wdt:P106 ?occupation. }}  # Occupation\n",
    "      OPTIONAL {{ \n",
    "        ?article schema:about ?person;\n",
    "                 schema:isPartOf <https://de.wikipedia.org/>.\n",
    "      }}\n",
    "    \"\"\"\n",
    "    \n",
    "    # Wohnort-Filter hinzufügen, wenn angegeben\n",
    "    if residence:\n",
    "        query += f\"\"\"\n",
    "      ?person wdt:P551 ?residence.\n",
    "      ?residence rdfs:label ?residenceLabel.\n",
    "      FILTER(CONTAINS(LCASE(?residenceLabel), LCASE(\"{residence}\")))\n",
    "    \"\"\"\n",
    "    \n",
    "    # Geburtsjahr-Filter hinzufügen\n",
    "    query += f\"\"\"\n",
    "      SERVICE wikibase:label {{ bd:serviceParam wikibase:language \"[AUTO_LANGUAGE],de,en\". }}\n",
    "      FILTER ((?birthDate >= \"{birth_year_min}-01-01\"^^xsd:dateTime) && \n",
    "              (?birthDate <= \"{birth_year_max}-12-31\"^^xsd:dateTime))\n",
    "    }}\n",
    "    LIMIT 10\n",
    "    \"\"\"\n",
    "    \n",
    "    headers = {\n",
    "        \"Accept\": \"application/sparql-results+json\",\n",
    "    }\n",
    "    \n",
    "    try:\n",
    "        response = requests.get(endpoint_url, params={\"query\": query}, headers=headers)\n",
    "        response.raise_for_status()  # Wirft eine Exception bei HTTP-Fehlern\n",
    "        \n",
    "        data = response.json()\n",
    "        results = data.get(\"results\", {}).get(\"bindings\", [])\n",
    "        samples = []\n",
    "        \n",
    "        for result in results:\n",
    "            sample = {\n",
    "                \"person\": result.get(\"person\", {}).get(\"value\"),\n",
    "                \"personLabel\": result.get(\"personLabel\", {}).get(\"value\"),\n",
    "                \"birthDate\": result.get(\"birthDate\", {}).get(\"value\"),\n",
    "                \"deathDate\": result.get(\"deathDate\", {}).get(\"value\"),\n",
    "                \"residenceLabel\": result.get(\"residenceLabel\", {}).get(\"value\"),\n",
    "                \"occupationLabel\": result.get(\"occupationLabel\", {}).get(\"value\"),\n",
    "                \"article\": result.get(\"article\", {}).get(\"value\"),\n",
    "            }\n",
    "            samples.append(sample)\n",
    "        \n",
    "        return (samples, 1)\n",
    "    \n",
    "    except requests.exceptions.RequestException as e:\n",
    "        print(f\"Fehler bei der Anfrage: {str(e)}\")\n",
    "        return ([]), 0\n",
    "\n",
    "def receive_wikidata_as_pd(vorname=\"Albert\", nachname=\"Einstein\", wohnort=\"Schaffhausen\", geburtsjahr_min=1850, geburtsjahr_max=1900):\n",
    "    result_raw, success = search_person_wikidata(vorname, nachname, wohnort, geburtsjahr_min, geburtsjahr_max)\n",
    "    if len(result_raw) == 0:\n",
    "        return (pd.DataFrame(), success)\n",
    "    else:\n",
    "        result_df = pd.DataFrame(result_raw)\n",
    "        return (result_df.groupby(\"person\").agg(\n",
    "            {\n",
    "                \"personLabel\": \"first\",\n",
    "                \"birthDate\": \"first\",\n",
    "                \"deathDate\": \"first\",\n",
    "                \"residenceLabel\": \"unique\",\n",
    "                \"occupationLabel\": \"unique\",\n",
    "                \"article\": \"first\",\n",
    "            }\n",
    "        ), success)\n"
   ]
  },
  {
   "cell_type": "code",
   "execution_count": 7,
   "id": "dfe6c055",
   "metadata": {},
   "outputs": [
    {
     "data": {
      "text/html": [
       "<div>\n",
       "<style scoped>\n",
       "    .dataframe tbody tr th:only-of-type {\n",
       "        vertical-align: middle;\n",
       "    }\n",
       "\n",
       "    .dataframe tbody tr th {\n",
       "        vertical-align: top;\n",
       "    }\n",
       "\n",
       "    .dataframe thead th {\n",
       "        text-align: right;\n",
       "    }\n",
       "</style>\n",
       "<table border=\"1\" class=\"dataframe\">\n",
       "  <thead>\n",
       "    <tr style=\"text-align: right;\">\n",
       "      <th></th>\n",
       "      <th>personLabel</th>\n",
       "      <th>birthDate</th>\n",
       "      <th>deathDate</th>\n",
       "      <th>residenceLabel</th>\n",
       "      <th>occupationLabel</th>\n",
       "      <th>article</th>\n",
       "    </tr>\n",
       "    <tr>\n",
       "      <th>person</th>\n",
       "      <th></th>\n",
       "      <th></th>\n",
       "      <th></th>\n",
       "      <th></th>\n",
       "      <th></th>\n",
       "      <th></th>\n",
       "    </tr>\n",
       "  </thead>\n",
       "  <tbody>\n",
       "    <tr>\n",
       "      <th>http://www.wikidata.org/entity/Q937</th>\n",
       "      <td>Albert Einstein</td>\n",
       "      <td>1879-03-14T00:00:00Z</td>\n",
       "      <td>1955-04-18T00:00:00Z</td>\n",
       "      <td>[Schaffhausen]</td>\n",
       "      <td>[Physiker]</td>\n",
       "      <td>https://de.wikipedia.org/wiki/Albert_Einstein</td>\n",
       "    </tr>\n",
       "  </tbody>\n",
       "</table>\n",
       "</div>"
      ],
      "text/plain": [
       "                                         personLabel             birthDate  \\\n",
       "person                                                                       \n",
       "http://www.wikidata.org/entity/Q937  Albert Einstein  1879-03-14T00:00:00Z   \n",
       "\n",
       "                                                deathDate  residenceLabel  \\\n",
       "person                                                                      \n",
       "http://www.wikidata.org/entity/Q937  1955-04-18T00:00:00Z  [Schaffhausen]   \n",
       "\n",
       "                                    occupationLabel  \\\n",
       "person                                                \n",
       "http://www.wikidata.org/entity/Q937      [Physiker]   \n",
       "\n",
       "                                                                           article  \n",
       "person                                                                              \n",
       "http://www.wikidata.org/entity/Q937  https://de.wikipedia.org/wiki/Albert_Einstein  "
      ]
     },
     "execution_count": 7,
     "metadata": {},
     "output_type": "execute_result"
    }
   ],
   "source": [
    "# Beispielaufruf\n",
    "df = receive_wikidata_as_pd(\"Albert\", \"Einstein\", \"Schaffhausen\", 1800, 1880)\n",
    "df[0]"
   ]
  },
  {
   "cell_type": "markdown",
   "id": "bd5dfa0a",
   "metadata": {},
   "source": [
    "## ... Und jetzt für unseren Datensatz"
   ]
  },
  {
   "cell_type": "code",
   "execution_count": 8,
   "id": "adc5014a",
   "metadata": {},
   "outputs": [],
   "source": [
    "# Überprüfe, ob eine Datei \"AAB_wikidata.csv\" bereits existiert, wenn nicht, erstelle sie als Kopie von df_cars\n",
    "output_data_filename = \"AAB_wikidata.csv\"\n",
    "output_data_folder = \"../data/\"\n",
    "output_file = Path(output_data_folder) / output_data_filename\n",
    "\n",
    "if not output_file.exists():\n",
    "    df_cars_wikidata = df_cars['id'].copy().to_frame()\n",
    "    df_cars_wikidata[\"wikidata\"] = \"not checked\"\n",
    "    df_cars_wikidata.to_csv(output_file, sep=\"\\t\", index=False)\n",
    "else:\n",
    "    df_cars_wikidata = pd.read_csv(output_file, sep=\"\\t\")"
   ]
  },
  {
   "cell_type": "code",
   "execution_count": 15,
   "id": "6caf9639",
   "metadata": {},
   "outputs": [
    {
     "name": "stderr",
     "output_type": "stream",
     "text": [
      " 62%|██████▏   | 28176/45455 [00:05<00:03, 5483.75it/s]"
     ]
    },
    {
     "name": "stdout",
     "output_type": "stream",
     "text": [
      "Fehler bei der Anfrage: 400 Client Error: Bad Request for url: https://query.wikidata.org/sparql?query=%0A++++SELECT+%3Fperson+%3FpersonLabel+%3FbirthDate+%3FdeathDate+%3FresidenceLabel+%3FoccupationLabel+%3Farticle+WHERE+%7B%0A++++++%3Fperson+wdt%3AP31+wd%3AQ5%3B++%23+Instance+of+human%0A++++++++++++++wdt%3AP735+%3FgivenName%3B++%23+Given+name%0A++++++++++++++wdt%3AP734+%3FfamilyName.++%23+Family+name%0A++++++%3FgivenName+rdfs%3Alabel+%22Karl%22%40en.%0A++++++%3FfamilyName+rdfs%3Alabel+%22Wider%2C+Dr.+med.%22%40en.%0A++++++%0A++++++OPTIONAL+%7B+%3Fperson+wdt%3AP569+%3FbirthDate.+%7D%0A++++++OPTIONAL+%7B+%3Fperson+wdt%3AP570+%3FdeathDate.+%7D%0A++++++OPTIONAL+%7B+%3Fperson+wdt%3AP551+%3Fresidence.+%7D++%23+Residence%0A++++++OPTIONAL+%7B+%3Fperson+wdt%3AP106+%3Foccupation.+%7D++%23+Occupation%0A++++++OPTIONAL+%7B+%0A++++++++%3Farticle+schema%3Aabout+%3Fperson%3B%0A+++++++++++++++++schema%3AisPartOf+%3Chttps%3A%2F%2Fde.wikipedia.org%2F%3E.%0A++++++%7D%0A++++%0A++++++%3Fperson+wdt%3AP551+%3Fresidence.%0A++++++%3Fresidence+rdfs%3Alabel+%3FresidenceLabel.%0A++++++FILTER%28CONTAINS%28LCASE%28%3FresidenceLabel%29%2C+LCASE%28%22Oberndorf+%22%22%29%29%29%0A++++%0A++++++SERVICE+wikibase%3Alabel+%7B+bd%3AserviceParam+wikibase%3Alanguage+%22%5BAUTO_LANGUAGE%5D%2Cde%2Cen%22.+%7D%0A++++++FILTER+%28%28%3FbirthDate+%3E%3D+%221850-01-01%22%5E%5Exsd%3AdateTime%29+%26%26+%0A++++++++++++++%28%3FbirthDate+%3C%3D+%221900-12-31%22%5E%5Exsd%3AdateTime%29%29%0A++++%7D%0A++++LIMIT+10%0A++++\n"
     ]
    },
    {
     "name": "stderr",
     "output_type": "stream",
     "text": [
      "100%|██████████| 45455/45455 [00:09<00:00, 4775.14it/s]\n"
     ]
    }
   ],
   "source": [
    "import time\n",
    "import tqdm\n",
    "import numpy as np\n",
    "\n",
    "df_wikidata = pd.DataFrame()\n",
    "\n",
    "for index, row in tqdm.tqdm(df_cars.iterrows(), total=len(df_cars)):\n",
    "\n",
    "    first_name = row[\"Vorname\"]\n",
    "    last_name = row[\"Familienname\"]\n",
    "    location = row[\"Wohnort\"]\n",
    "    id = row[\"id\"]\n",
    "\n",
    "    if df_cars_wikidata.loc[df_cars_wikidata[\"id\"] == id, \"wikidata\"].values[0] == \"checked\":\n",
    "        continue\n",
    "\n",
    "    result_df, success = receive_wikidata_as_pd(first_name, last_name, location, 1850, 1900)\n",
    "    result_df[\"id\"] = id\n",
    "\n",
    "    if success==1:\n",
    "\n",
    "        if not result_df.empty:\n",
    "\n",
    "            print(first_name, last_name, location, id, result_df[\"article\"].values[0])\n",
    "\n",
    "            df_cars_wikidata.loc[ df_cars_wikidata[\"id\"] == id, \"wiki_person\"] = result_df[\"personLabel\"].values[0]\n",
    "            df_cars_wikidata.loc[ df_cars_wikidata[\"id\"] == id, \"wiki_geburtsdatum\"] = result_df[\"birthDate\"].values[0]\n",
    "            df_cars_wikidata.loc[ df_cars_wikidata[\"id\"] == id, \"wiki_todesdatum\"] = result_df[\"deathDate\"].values[0]\n",
    "\n",
    "            locations = result_df[\"residenceLabel\"].iloc[0]\n",
    "            locations_string = np.array2string(locations, separator=', ')\n",
    "            df_cars_wikidata.loc[ df_cars_wikidata[\"id\"] == id, \"wiki_wohnort\"] = locations_string\n",
    "\n",
    "            ocupation = result_df[\"occupationLabel\"].iloc[0]\n",
    "            occupation_string = np.array2string(ocupation, separator=', ')\n",
    "\n",
    "            df_cars_wikidata.loc[ df_cars_wikidata[\"id\"] == id, \"wiki_beruf\"] = occupation_string\n",
    "            df_cars_wikidata.loc[ df_cars_wikidata[\"id\"] == id, \"wiki_url\"] = result_df[\"article\"].values[0]\n",
    "\n",
    "        df_cars_wikidata.loc[ df_cars_wikidata[\"id\"] == id, \"wikidata\"] = \"checked\"\n",
    "    else:\n",
    "        df_cars_wikidata.loc[ df_cars_wikidata[\"id\"] == id, \"wikidata\"] = \"error\"\n",
    "\n",
    "    df_cars_wikidata.to_csv(output_file, sep=\"\\t\", index=False)\n",
    "\n",
    "    if success==1 and not result_df.empty:\n",
    "        print(f\"Found {len(result_df)} entries for {first_name} {last_name} in Wikidata\")\n",
    "\n",
    "    time.sleep(1)  # Wartezeit von 1 Sekunde, um die Wikidata-API nicht zu überlasten"
   ]
  },
  {
   "cell_type": "markdown",
   "id": "27543a8c",
   "metadata": {},
   "source": [
    "## Auswertung"
   ]
  },
  {
   "cell_type": "code",
   "execution_count": 9,
   "id": "3e8ffcad",
   "metadata": {},
   "outputs": [],
   "source": [
    "# lies die Daten aus der Datei\n",
    "df_cars_wikidata = pd.read_csv(output_file, sep=\"\\t\")"
   ]
  },
  {
   "cell_type": "code",
   "execution_count": 17,
   "id": "c95bf188",
   "metadata": {},
   "outputs": [
    {
     "data": {
      "text/plain": [
       "wikidata\n",
       "checked    45454\n",
       "error          1\n",
       "Name: count, dtype: int64"
      ]
     },
     "execution_count": 17,
     "metadata": {},
     "output_type": "execute_result"
    }
   ],
   "source": [
    "df_cars_wikidata.wikidata.value_counts()"
   ]
  },
  {
   "cell_type": "code",
   "execution_count": 16,
   "id": "6af9ea5c",
   "metadata": {},
   "outputs": [
    {
     "data": {
      "text/html": [
       "<table border=\"1\" class=\"dataframe\">\n",
       "  <thead>\n",
       "    <tr style=\"text-align: right;\">\n",
       "      <th></th>\n",
       "      <th>id</th>\n",
       "      <th>wikidata</th>\n",
       "      <th>wiki_person</th>\n",
       "      <th>wiki_geburtsdatum</th>\n",
       "      <th>wiki_todesdatum</th>\n",
       "      <th>wiki_wohnort</th>\n",
       "      <th>wiki_beruf</th>\n",
       "      <th>wiki_url</th>\n",
       "    </tr>\n",
       "  </thead>\n",
       "  <tbody>\n",
       "    <tr>\n",
       "      <th>3301</th>\n",
       "      <td>17121190</td>\n",
       "      <td>checked</td>\n",
       "      <td>Benno Arnold</td>\n",
       "      <td>1876-11-21T00:00:00Z</td>\n",
       "      <td>1943-03-03T00:00:00Z</td>\n",
       "      <td>['Augsburg', 'Augsburgo']</td>\n",
       "      <td>['Augsburg', 'Augsburgo']</td>\n",
       "      <td><a href=\"https://de.wikipedia.org/wiki/Benno_Arnold_(Industrieller)\">https://de.wikipedia.org/wiki/Benno_Arnold_(Industrieller)</a></td>\n",
       "    </tr>\n",
       "    <tr>\n",
       "      <th>3760</th>\n",
       "      <td>17121354</td>\n",
       "      <td>checked</td>\n",
       "      <td>Emil Klein</td>\n",
       "      <td>1865-01-01T00:00:00Z</td>\n",
       "      <td>1943-01-01T00:00:00Z</td>\n",
       "      <td>['Stuttgart']</td>\n",
       "      <td>['Stuttgart']</td>\n",
       "      <td><a href=\"https://de.wikipedia.org/wiki/Emil_Klein_(Maler)\">https://de.wikipedia.org/wiki/Emil_Klein_(Maler)</a></td>\n",
       "    </tr>\n",
       "    <tr>\n",
       "      <th>5358</th>\n",
       "      <td>17097283</td>\n",
       "      <td>checked</td>\n",
       "      <td>Wilfrid Israel</td>\n",
       "      <td>1899-07-11T00:00:00Z</td>\n",
       "      <td>1943-06-01T00:00:00Z</td>\n",
       "      <td>['Berlin-Mitte']</td>\n",
       "      <td>['Berlin-Mitte']</td>\n",
       "      <td><a href=\"https://de.wikipedia.org/wiki/Wilfrid_Israel\">https://de.wikipedia.org/wiki/Wilfrid_Israel</a></td>\n",
       "    </tr>\n",
       "    <tr>\n",
       "      <th>5558</th>\n",
       "      <td>17097036</td>\n",
       "      <td>checked</td>\n",
       "      <td>Friedrich Gutmann</td>\n",
       "      <td>1886-11-15T00:00:00Z</td>\n",
       "      <td>1944-04-19T00:00:00Z</td>\n",
       "      <td>['Berlin', 'I-Berlin', 'IBerlini']</td>\n",
       "      <td>['Berlin', 'I-Berlin', 'IBerlini']</td>\n",
       "      <td><a href=\"https://de.wikipedia.org/wiki/Friedrich_Gutmann\">https://de.wikipedia.org/wiki/Friedrich_Gutmann</a></td>\n",
       "    </tr>\n",
       "    <tr>\n",
       "      <th>5577</th>\n",
       "      <td>17097125</td>\n",
       "      <td>checked</td>\n",
       "      <td>Paul Müller</td>\n",
       "      <td>1881-02-26T00:00:00Z</td>\n",
       "      <td>1940-01-01T00:00:00Z</td>\n",
       "      <td>['Berlin-Kreuzberg']</td>\n",
       "      <td>[None]</td>\n",
       "      <td><a href=\"nan\">nan</a></td>\n",
       "    </tr>\n",
       "  </tbody>\n",
       "</table>"
      ],
      "text/plain": [
       "<IPython.core.display.HTML object>"
      ]
     },
     "execution_count": 16,
     "metadata": {},
     "output_type": "execute_result"
    }
   ],
   "source": [
    "from IPython.display import HTML\n",
    "\n",
    "HTML(df_cars_wikidata.dropna(subset=[\"wiki_person\"]).head(5).to_html(render_links=True, escape=False))"
   ]
  },
  {
   "cell_type": "code",
   "execution_count": null,
   "id": "8212fa04",
   "metadata": {},
   "outputs": [],
   "source": []
  }
 ],
 "metadata": {
  "celltoolbar": "Tags",
  "kernelspec": {
   "display_name": "non-package-mode-4CfxTFO5-py3.12",
   "language": "python",
   "name": "python3"
  },
  "language_info": {
   "codemirror_mode": {
    "name": "ipython",
    "version": 3
   },
   "file_extension": ".py",
   "mimetype": "text/x-python",
   "name": "python",
   "nbconvert_exporter": "python",
   "pygments_lexer": "ipython3",
   "version": "3.12.3"
  }
 },
 "nbformat": 4,
 "nbformat_minor": 5
}
