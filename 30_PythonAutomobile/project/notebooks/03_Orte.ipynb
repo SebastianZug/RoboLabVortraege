{
 "cells": [
  {
   "cell_type": "markdown",
   "id": "f478d5cc",
   "metadata": {},
   "source": [
    "# Einbettung der Einwohnerzahlen in die Ortsinformationen"
   ]
  },
  {
   "cell_type": "code",
   "execution_count": null,
   "id": "af118556-92ff-4a1b-a48f-e8056797e316",
   "metadata": {},
   "outputs": [],
   "source": [
    "import pandas as pd\n",
    "from pathlib import Path"
   ]
  },
  {
   "cell_type": "code",
   "execution_count": null,
   "id": "3e0dc7b3",
   "metadata": {
    "tags": [
     "parameters"
    ]
   },
   "outputs": [],
   "source": [
    "input_data_folder = \"../data/\"\n",
    "input_data_filename = \"AAB_cleaned.csv\"\n",
    "output_data_filename = \"Kfz_pro_Ort.csv\"\n",
    "\n",
    "data_file = Path(input_data_folder) / input_data_filename\n",
    "output_file = Path(input_data_folder) / output_data_filename"
   ]
  },
  {
   "cell_type": "code",
   "execution_count": null,
   "id": "3f65f161-1f64-4af9-bff2-2027b2daf6d9",
   "metadata": {},
   "outputs": [],
   "source": [
    "df_cars = pd.read_csv(data_file, sep= \"\\t\")  "
   ]
  },
  {
   "cell_type": "markdown",
   "id": "aa798911",
   "metadata": {},
   "source": [
    "## Vorverarbeitung der Kfz-Daten \n",
    "\n",
    "> Achtung: Dieses Notebook ignoriert aus didaktischen Gründen viele Besonderheiten im Datensatz (mehrdeutige Ortsnamen, Schreibweisen) und vereinfacht den Analyseprozess. Die abgeleiteten Aussagen sind entsprechend nicht belastbar."
   ]
  },
  {
   "cell_type": "code",
   "execution_count": null,
   "id": "3886dcb9",
   "metadata": {},
   "outputs": [],
   "source": [
    "df_counts = df_cars.groupby('Wohnort').agg(\n",
    "             Anzahl=('Wohnort', 'count'),\n",
    "             Kreis=('Kreis_Stadt', 'last'),\n",
    ").sort_values(by='Anzahl', ascending=False).reset_index()\n",
    "df_counts"
   ]
  },
  {
   "cell_type": "code",
   "execution_count": null,
   "id": "cbff1ac8",
   "metadata": {},
   "outputs": [],
   "source": [
    "# Wie groß war die Anzahl der Fahrzeugeigentümer in Freiberg gleich?\n",
    "\n"
   ]
  },
  {
   "cell_type": "code",
   "execution_count": null,
   "id": "dfbe70a6",
   "metadata": {},
   "outputs": [],
   "source": [
    "#  Lassen sie uns die kleinen Orte entfernen, die weniger als 50 Fahrzeugeigentümer haben.\n",
    "\n"
   ]
  },
  {
   "cell_type": "markdown",
   "id": "f8e433d8",
   "metadata": {},
   "source": [
    "## Erfassen der Gemeindedaten / Einwohnerzahlen\n",
    "\n",
    "> Vielen Dank an Herrn Ulli Schubert (info@ulischubert.de) für die Bereitstellung der Daten!"
   ]
  },
  {
   "cell_type": "code",
   "execution_count": null,
   "id": "34ee1b7c",
   "metadata": {},
   "outputs": [],
   "source": [
    "inhabitants_statistics_filename = \"Gemeindeverzeichnis1910 mit EW.xlsx\"\n",
    "data_file = Path(input_data_folder) / inhabitants_statistics_filename\n",
    "df_inh = pd.read_excel(data_file)"
   ]
  },
  {
   "cell_type": "code",
   "execution_count": null,
   "id": "798af94f",
   "metadata": {},
   "outputs": [],
   "source": [
    "# Wie viele Einwohner hat Freiberg 1910? Stimmt der Wert mit anderen Quellen überein?"
   ]
  },
  {
   "cell_type": "markdown",
   "id": "ae13989b",
   "metadata": {},
   "source": [
    "> Soweit so gut, welche Probleme gibt es?"
   ]
  },
  {
   "cell_type": "code",
   "execution_count": null,
   "id": "a3113a4e",
   "metadata": {},
   "outputs": [],
   "source": [
    "df_inh[df_inh.Gemeindename==\"München\"]"
   ]
  },
  {
   "cell_type": "code",
   "execution_count": null,
   "id": "09cb899c",
   "metadata": {},
   "outputs": [],
   "source": [
    "# Die nachfolgende Lösung ist wenig belastbar und generiert falsche Ergebnisse - eine Lösung anhand der Kreisnamen und Bezirke/Länder wäre wesentlich zielführender.\n",
    "# lösche die Gemeinden, deren Namen mehrfach in Gemeindename vorkommt, behalte den größeren Einwohnerwert\n",
    "\n",
    "df_inh = df_inh.sort_values(by='Einwohner 1910', ascending=False)\n",
    "df_inh = df_inh.drop_duplicates(subset='Gemeindename', keep='first')\n",
    "\n",
    "df_inh[df_inh.Gemeindename==\"München\"]"
   ]
  },
  {
   "cell_type": "markdown",
   "id": "154fc435",
   "metadata": {},
   "source": [
    "## Merge der Daten"
   ]
  },
  {
   "cell_type": "code",
   "execution_count": null,
   "id": "0ad50911",
   "metadata": {},
   "outputs": [],
   "source": [
    "df = pd.merge(df_counts, df_inh[['Gemeindename', 'Einwohner 1910']], left_on='Wohnort', right_on='Gemeindename', how='left')"
   ]
  },
  {
   "cell_type": "code",
   "execution_count": null,
   "id": "f3ff33ad",
   "metadata": {},
   "outputs": [],
   "source": [
    "# lösche alle Orte, die nicht in der Einwohnerstatistik vorhanden sind\n",
    "\n",
    "df = df.dropna(subset=['Einwohner 1910'])\n",
    "df"
   ]
  },
  {
   "cell_type": "code",
   "execution_count": null,
   "id": "6398f79d",
   "metadata": {},
   "outputs": [],
   "source": [
    "df.to_csv(output_file, sep=\"\\t\", index=False)"
   ]
  },
  {
   "cell_type": "code",
   "execution_count": null,
   "id": "e2dc56b2",
   "metadata": {},
   "outputs": [],
   "source": []
  }
 ],
 "metadata": {
  "celltoolbar": "Tags",
  "kernelspec": {
   "display_name": "non-package-mode-4CfxTFO5-py3.12",
   "language": "python",
   "name": "python3"
  },
  "language_info": {
   "codemirror_mode": {
    "name": "ipython",
    "version": 3
   },
   "file_extension": ".py",
   "mimetype": "text/x-python",
   "name": "python",
   "nbconvert_exporter": "python",
   "pygments_lexer": "ipython3",
   "version": "3.12.3"
  }
 },
 "nbformat": 4,
 "nbformat_minor": 5
}
