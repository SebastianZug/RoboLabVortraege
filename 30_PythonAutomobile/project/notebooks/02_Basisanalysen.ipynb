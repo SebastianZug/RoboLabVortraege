{
 "cells": [
  {
   "cell_type": "code",
   "execution_count": null,
   "id": "af118556-92ff-4a1b-a48f-e8056797e316",
   "metadata": {},
   "outputs": [],
   "source": [
    "import pandas as pd\n",
    "from pathlib import Path"
   ]
  },
  {
   "cell_type": "markdown",
   "id": "a1b90d55",
   "metadata": {},
   "source": [
    "# Basisanalysen"
   ]
  },
  {
   "cell_type": "code",
   "execution_count": null,
   "id": "a7541355-3707-438c-8bae-e7242af0e849",
   "metadata": {
    "tags": [
     "parameters"
    ]
   },
   "outputs": [],
   "source": [
    "input_data_folder = \"../data/\"\n",
    "input_data_filename = \"AAB_cleaned.csv\""
   ]
  },
  {
   "cell_type": "code",
   "execution_count": null,
   "id": "3f65f161-1f64-4af9-bff2-2027b2daf6d9",
   "metadata": {},
   "outputs": [],
   "source": [
    "data_file = Path(input_data_folder) / input_data_filename\n",
    "df_cars = pd.read_csv(data_file, sep= \"\\t\")  "
   ]
  },
  {
   "cell_type": "code",
   "execution_count": null,
   "id": "daefea36-dc9f-4bdd-90fd-17577596c221",
   "metadata": {},
   "outputs": [],
   "source": [
    "df_cars.head()"
   ]
  },
  {
   "cell_type": "markdown",
   "id": "103f0131",
   "metadata": {},
   "source": [
    "## Welche 20 Berufe sind bei den Haltern am häufigsten vertreten?"
   ]
  },
  {
   "cell_type": "code",
   "execution_count": null,
   "id": "6e522e9a",
   "metadata": {},
   "outputs": [],
   "source": []
  },
  {
   "cell_type": "markdown",
   "id": "77b255a2",
   "metadata": {},
   "source": [
    "> Welche Probeleme sehen Sie?"
   ]
  },
  {
   "cell_type": "markdown",
   "id": "38e49e81",
   "metadata": {},
   "source": [
    "## Welche Typen von Kategorien von KfZ wurden genutzt?\n",
    "\n",
    "https://wiki.genealogy.net/Deutsches_Automobil-Adre%C3%9Fbuch/Adressbuch_1909\n",
    "\n",
    "| Abkürzung | Erläuterung                                                                         |\n",
    "| --------- | ----------------------------------------------------------------------------------- |\n",
    "| BW.       | Wagen zu Berufszwecken                                                              |\n",
    "| DW.       | Wagen im öffentlichen Dienst                                                        |\n",
    "| FW.       |                                                                                     |\n",
    "| GW.       | Wagen zu Geschäftszwecken                                                           |\n",
    "| KW.       |                                                                                     |\n",
    "| KrR.      | Kraftrad                                                                            |\n",
    "| KrW.      | Kraftwagen                                                                          |\n",
    "| LW.       | Lastwagen                                                                           |\n",
    "| LxW.      | Wagen für Luxus-, Vergnügungs- und Sportszwecke                                     |\n",
    "| PW.       | Wagen der Fabriken und Händler für Probefahrten                                     |\n",
    "| TW.       | Taxameterdroschken und alle sonstigen im öffentlichen Fuhrverkehr verwendeten Wagen |"
   ]
  },
  {
   "cell_type": "code",
   "execution_count": null,
   "id": "3b8e18ec",
   "metadata": {},
   "outputs": [],
   "source": [
    "df_cars.Fzg_Typ.value_counts()"
   ]
  },
  {
   "cell_type": "markdown",
   "id": "a257a59a",
   "metadata": {},
   "source": [
    "> Huch, hier scheint einiges im Argen zu liegen. Die Kategorien sind nicht einheitlich und es gibt viele Schreibfehler. Hier müssten wir erstmal Ordnung schaffen."
   ]
  },
  {
   "cell_type": "markdown",
   "id": "ce94f892",
   "metadata": {},
   "source": [
    "Trotzdem ganz interessant, dass es schon 1909 Taxameterdroschken gab. Wo war das?"
   ]
  },
  {
   "cell_type": "code",
   "execution_count": null,
   "id": "32f04bae",
   "metadata": {},
   "outputs": [],
   "source": [
    "df_cars[df_cars.Fzg_Typ == \"TW.\"].Wohnort.value_counts().head(20)"
   ]
  },
  {
   "cell_type": "markdown",
   "id": "1850aed1",
   "metadata": {},
   "source": [
    "## Und in Freiberg?\n",
    "\n",
    "Welche Nutzungstypen von KfZ gab es in Freiberg? Und welche Berufe waren am häufigsten vertreten?"
   ]
  },
  {
   "cell_type": "code",
   "execution_count": null,
   "id": "232e6147",
   "metadata": {},
   "outputs": [],
   "source": []
  },
  {
   "cell_type": "markdown",
   "id": "3b0a898e",
   "metadata": {},
   "source": [
    "Offensichtlich war Freiberg eine Motoradstadt :-)"
   ]
  },
  {
   "cell_type": "markdown",
   "id": "52aa5d61",
   "metadata": {},
   "source": []
  }
 ],
 "metadata": {
  "celltoolbar": "Tags",
  "kernelspec": {
   "display_name": "non-package-mode-4CfxTFO5-py3.12",
   "language": "python",
   "name": "python3"
  },
  "language_info": {
   "codemirror_mode": {
    "name": "ipython",
    "version": 3
   },
   "file_extension": ".py",
   "mimetype": "text/x-python",
   "name": "python",
   "nbconvert_exporter": "python",
   "pygments_lexer": "ipython3",
   "version": "3.12.3"
  }
 },
 "nbformat": 4,
 "nbformat_minor": 5
}
