{
 "cells": [
  {
   "cell_type": "code",
   "execution_count": null,
   "id": "af118556-92ff-4a1b-a48f-e8056797e316",
   "metadata": {},
   "outputs": [],
   "source": [
    "import pandas as pd\n",
    "from pathlib import Path"
   ]
  },
  {
   "cell_type": "markdown",
   "id": "8ed2c9ed",
   "metadata": {},
   "source": [
    "# Vorverarbeitung des Datensatzes"
   ]
  },
  {
   "cell_type": "code",
   "execution_count": null,
   "id": "a7541355-3707-438c-8bae-e7242af0e849",
   "metadata": {
    "tags": [
     "parameters"
    ]
   },
   "outputs": [],
   "source": [
    "input_data_folder = \"../data/\"\n",
    "input_data_filename = \"AutomobilAdressBuch1909.csv\"\n",
    "output_data_filename = \"AAB_cleaned.csv\"\n",
    "\n",
    "raw_data_file = Path(input_data_folder) / input_data_filename\n",
    "cleaned_data_file = Path(input_data_folder) / input_data_filename"
   ]
  },
  {
   "cell_type": "code",
   "execution_count": null,
   "id": "3f65f161-1f64-4af9-bff2-2027b2daf6d9",
   "metadata": {},
   "outputs": [],
   "source": [
    "\n",
    "df_cars = pd.read_csv(raw_data_file, sep= \"\\t\")  "
   ]
  },
  {
   "cell_type": "code",
   "execution_count": null,
   "id": "daefea36-dc9f-4bdd-90fd-17577596c221",
   "metadata": {},
   "outputs": [],
   "source": [
    "df_cars.head()"
   ]
  },
  {
   "cell_type": "markdown",
   "id": "d4e8ddc9",
   "metadata": {},
   "source": [
    "## Schritt 1: Umbenennen ungeeigneter oder englischsprachiger Spaltenbezeichnungen"
   ]
  },
  {
   "cell_type": "code",
   "execution_count": null,
   "id": "9fbf12cc-82b4-499a-8ae6-3c5c7cc840c0",
   "metadata": {},
   "outputs": [],
   "source": [
    "df_cars.rename(columns={'page':'Seite', 'lastname':'Familienname', 'firstname':'Vorname'}, \n",
    "               inplace=True)"
   ]
  },
  {
   "cell_type": "code",
   "execution_count": null,
   "id": "d9456c09",
   "metadata": {},
   "outputs": [],
   "source": [
    "df_cars.rename(columns={'Beruf/Stand':'Beruf_Stand', \"Kreis/Stadt\": \"Kreis_Stadt\", \"Art des Fahrzeugs\": \"Fzg_Typ\"}, \n",
    "               inplace=True)"
   ]
  },
  {
   "cell_type": "markdown",
   "id": "8efa7fcf",
   "metadata": {},
   "source": [
    "## Schritt 2: Korrektur der Datentypen und Inhalte"
   ]
  },
  {
   "cell_type": "code",
   "execution_count": null,
   "id": "eecc34df-b776-4edd-8e9b-0393092a283a",
   "metadata": {},
   "outputs": [],
   "source": [
    "string_columns = list(df_cars.select_dtypes(include='object'))\n",
    "\n",
    "# ersetzt alle NaN durch \"-\"und passt den Datentyp an\n",
    "for column in string_columns:\n",
    "    df_cars[column] = df_cars[column].fillna('-').astype('string')"
   ]
  },
  {
   "cell_type": "code",
   "execution_count": null,
   "id": "8e4e0346",
   "metadata": {},
   "outputs": [],
   "source": [
    "df_cars.dtypes"
   ]
  },
  {
   "cell_type": "markdown",
   "id": "9edb2dd5",
   "metadata": {},
   "source": [
    "## Schritt 3: Löschen von mehrfachen Lehrzeichen"
   ]
  },
  {
   "cell_type": "code",
   "execution_count": null,
   "id": "cdda98e2",
   "metadata": {},
   "outputs": [],
   "source": [
    "# entfernt alle führenden und endenen Lehrzeichen für die Spalten mit Texteinträgen\n",
    "for column in string_columns:\n",
    "    df_cars[column] = df_cars[column].str.strip()"
   ]
  },
  {
   "cell_type": "code",
   "execution_count": null,
   "id": "002fb777-b069-41ac-b163-0a5ed8d54727",
   "metadata": {},
   "outputs": [],
   "source": [
    "df_cars.to_csv(cleaned_data_file, sep= \"\\t\", index=False)  "
   ]
  }
 ],
 "metadata": {
  "celltoolbar": "Tags",
  "kernelspec": {
   "display_name": "non-package-mode-4CfxTFO5-py3.12",
   "language": "python",
   "name": "python3"
  },
  "language_info": {
   "codemirror_mode": {
    "name": "ipython",
    "version": 3
   },
   "file_extension": ".py",
   "mimetype": "text/x-python",
   "name": "python",
   "nbconvert_exporter": "python",
   "pygments_lexer": "ipython3",
   "version": "3.12.3"
  }
 },
 "nbformat": 4,
 "nbformat_minor": 5
}
