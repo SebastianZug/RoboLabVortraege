{
 "cells": [
  {
   "cell_type": "code",
   "execution_count": 11,
   "id": "af118556-92ff-4a1b-a48f-e8056797e316",
   "metadata": {},
   "outputs": [],
   "source": [
    "import pandas as pd\n",
    "from pathlib import Path"
   ]
  },
  {
   "cell_type": "markdown",
   "id": "8ed2c9ed",
   "metadata": {},
   "source": [
    "# Vorverarbeitung des Datensatzes"
   ]
  },
  {
   "cell_type": "code",
   "execution_count": 12,
   "id": "a7541355-3707-438c-8bae-e7242af0e849",
   "metadata": {
    "tags": [
     "parameters"
    ]
   },
   "outputs": [],
   "source": [
    "input_data_folder = \"../data/\"\n",
    "input_data_filename = \"AAB_raw.csv\"\n",
    "output_data_filename = \"AAB_cleaned.csv\"\n",
    "\n",
    "raw_data_file = Path(input_data_folder) / input_data_filename\n",
    "cleaned_data_file = Path(input_data_folder) / input_data_filename"
   ]
  },
  {
   "cell_type": "code",
   "execution_count": 13,
   "id": "3f65f161-1f64-4af9-bff2-2027b2daf6d9",
   "metadata": {},
   "outputs": [],
   "source": [
    "df_cars = pd.read_csv(raw_data_file, sep= \"\\t\")  \n",
    "\n",
    "# Variante für Google Colab\n",
    "#df_cars = pd.read_csv( \"https://raw.githubusercontent.com/SebastianZug/RoboLabVortraege/refs/heads/main/30_PythonAutomobile/project/data/AAB_raw.csv\", sep= \"\\t\")  "
   ]
  },
  {
   "cell_type": "code",
   "execution_count": 14,
   "id": "daefea36-dc9f-4bdd-90fd-17577596c221",
   "metadata": {},
   "outputs": [
    {
     "data": {
      "text/html": [
       "<div>\n",
       "<style scoped>\n",
       "    .dataframe tbody tr th:only-of-type {\n",
       "        vertical-align: middle;\n",
       "    }\n",
       "\n",
       "    .dataframe tbody tr th {\n",
       "        vertical-align: top;\n",
       "    }\n",
       "\n",
       "    .dataframe thead th {\n",
       "        text-align: right;\n",
       "    }\n",
       "</style>\n",
       "<table border=\"1\" class=\"dataframe\">\n",
       "  <thead>\n",
       "    <tr style=\"text-align: right;\">\n",
       "      <th></th>\n",
       "      <th>Seite</th>\n",
       "      <th>Familienname</th>\n",
       "      <th>Vorname</th>\n",
       "      <th>Kennzeichen</th>\n",
       "      <th>Nummer</th>\n",
       "      <th>Beruf_Stand</th>\n",
       "      <th>Wohnort</th>\n",
       "      <th>Adresse</th>\n",
       "      <th>Fzg_Typ</th>\n",
       "      <th>Kreis_Stadt</th>\n",
       "      <th>Firma</th>\n",
       "      <th>id</th>\n",
       "    </tr>\n",
       "  </thead>\n",
       "  <tbody>\n",
       "    <tr>\n",
       "      <th>0</th>\n",
       "      <td>103</td>\n",
       "      <td>Trautmann</td>\n",
       "      <td>Robert</td>\n",
       "      <td>S S</td>\n",
       "      <td>80</td>\n",
       "      <td>Privatmann</td>\n",
       "      <td>Arnstadt</td>\n",
       "      <td>Lindenallee 11</td>\n",
       "      <td>Lxw.</td>\n",
       "      <td>Arnstadt</td>\n",
       "      <td>-</td>\n",
       "      <td>17091280</td>\n",
       "    </tr>\n",
       "    <tr>\n",
       "      <th>1</th>\n",
       "      <td>420</td>\n",
       "      <td>Beckmann</td>\n",
       "      <td>Otto</td>\n",
       "      <td>I K</td>\n",
       "      <td>15</td>\n",
       "      <td>Molk.-Techniker</td>\n",
       "      <td>Breslau</td>\n",
       "      <td>N. Taschenstr. 25 a</td>\n",
       "      <td>KrR.</td>\n",
       "      <td>Provinz Schlesien</td>\n",
       "      <td>-</td>\n",
       "      <td>17101628</td>\n",
       "    </tr>\n",
       "    <tr>\n",
       "      <th>2</th>\n",
       "      <td>429</td>\n",
       "      <td>Barteczko</td>\n",
       "      <td>Karl</td>\n",
       "      <td>I K</td>\n",
       "      <td>439</td>\n",
       "      <td>Maschinist</td>\n",
       "      <td>Ratibor</td>\n",
       "      <td>Neuer Markt 5</td>\n",
       "      <td>KrR.</td>\n",
       "      <td>Provinz Schlesien</td>\n",
       "      <td>-</td>\n",
       "      <td>17101933</td>\n",
       "    </tr>\n",
       "    <tr>\n",
       "      <th>3</th>\n",
       "      <td>529</td>\n",
       "      <td>Leesen, v.</td>\n",
       "      <td>-</td>\n",
       "      <td>I P</td>\n",
       "      <td>233</td>\n",
       "      <td>Ingenieur</td>\n",
       "      <td>St. Margarethen</td>\n",
       "      <td>-</td>\n",
       "      <td>KrR.</td>\n",
       "      <td>Schleswig-Holstein</td>\n",
       "      <td>-</td>\n",
       "      <td>17105384</td>\n",
       "    </tr>\n",
       "    <tr>\n",
       "      <th>4</th>\n",
       "      <td>2</td>\n",
       "      <td>-</td>\n",
       "      <td>-</td>\n",
       "      <td>A</td>\n",
       "      <td>73</td>\n",
       "      <td>-</td>\n",
       "      <td>Stadt Dessau</td>\n",
       "      <td>Franzstr. 30</td>\n",
       "      <td>LW.</td>\n",
       "      <td>Stadt Dessau</td>\n",
       "      <td>Berlin-Anh.  Maschinenbau-Aktien-Gesellschaft</td>\n",
       "      <td>17088030</td>\n",
       "    </tr>\n",
       "  </tbody>\n",
       "</table>\n",
       "</div>"
      ],
      "text/plain": [
       "   Seite Familienname Vorname Kennzeichen Nummer      Beruf_Stand  \\\n",
       "0    103    Trautmann  Robert         S S     80       Privatmann   \n",
       "1    420     Beckmann    Otto         I K     15  Molk.-Techniker   \n",
       "2    429    Barteczko    Karl         I K    439       Maschinist   \n",
       "3    529   Leesen, v.       -         I P    233        Ingenieur   \n",
       "4      2            -       -           A     73                -   \n",
       "\n",
       "           Wohnort              Adresse Fzg_Typ         Kreis_Stadt  \\\n",
       "0         Arnstadt       Lindenallee 11    Lxw.            Arnstadt   \n",
       "1          Breslau  N. Taschenstr. 25 a    KrR.   Provinz Schlesien   \n",
       "2          Ratibor        Neuer Markt 5    KrR.   Provinz Schlesien   \n",
       "3  St. Margarethen                    -    KrR.  Schleswig-Holstein   \n",
       "4     Stadt Dessau         Franzstr. 30     LW.        Stadt Dessau   \n",
       "\n",
       "                                           Firma        id  \n",
       "0                                              -  17091280  \n",
       "1                                              -  17101628  \n",
       "2                                              -  17101933  \n",
       "3                                              -  17105384  \n",
       "4  Berlin-Anh.  Maschinenbau-Aktien-Gesellschaft  17088030  "
      ]
     },
     "execution_count": 14,
     "metadata": {},
     "output_type": "execute_result"
    }
   ],
   "source": [
    "df_cars.head()"
   ]
  },
  {
   "cell_type": "markdown",
   "id": "d4e8ddc9",
   "metadata": {},
   "source": [
    "## Schritt 1: Umbenennen ungeeigneter oder englischsprachiger Spaltenbezeichnungen"
   ]
  },
  {
   "cell_type": "code",
   "execution_count": 15,
   "id": "9fbf12cc-82b4-499a-8ae6-3c5c7cc840c0",
   "metadata": {},
   "outputs": [],
   "source": [
    "df_cars.rename(columns={'page':'Seite', 'lastname':'Familienname', 'firstname':'Vorname'}, \n",
    "               inplace=True)"
   ]
  },
  {
   "cell_type": "code",
   "execution_count": 16,
   "id": "d9456c09",
   "metadata": {},
   "outputs": [],
   "source": [
    "df_cars.rename(columns={'Beruf/Stand':'Beruf_Stand', \"Kreis/Stadt\": \"Kreis_Stadt\", \"Art des Fahrzeugs\": \"Fzg_Typ\"}, \n",
    "               inplace=True)"
   ]
  },
  {
   "cell_type": "markdown",
   "id": "8efa7fcf",
   "metadata": {},
   "source": [
    "## Schritt 2: Korrektur der Datentypen und Inhalte"
   ]
  },
  {
   "cell_type": "code",
   "execution_count": 17,
   "id": "eecc34df-b776-4edd-8e9b-0393092a283a",
   "metadata": {},
   "outputs": [],
   "source": [
    "string_columns = list(df_cars.select_dtypes(include='object'))\n",
    "\n",
    "# ersetzt alle NaN durch \"-\"und passt den Datentyp an\n",
    "for column in string_columns:\n",
    "    df_cars[column] = df_cars[column].fillna('-').astype('string')"
   ]
  },
  {
   "cell_type": "code",
   "execution_count": 18,
   "id": "8e4e0346",
   "metadata": {},
   "outputs": [
    {
     "data": {
      "text/plain": [
       "Seite                    int64\n",
       "Familienname    string[python]\n",
       "Vorname         string[python]\n",
       "Kennzeichen     string[python]\n",
       "Nummer          string[python]\n",
       "Beruf_Stand     string[python]\n",
       "Wohnort         string[python]\n",
       "Adresse         string[python]\n",
       "Fzg_Typ         string[python]\n",
       "Kreis_Stadt     string[python]\n",
       "Firma           string[python]\n",
       "id                       int64\n",
       "dtype: object"
      ]
     },
     "execution_count": 18,
     "metadata": {},
     "output_type": "execute_result"
    }
   ],
   "source": [
    "df_cars.dtypes"
   ]
  },
  {
   "cell_type": "markdown",
   "id": "9edb2dd5",
   "metadata": {},
   "source": [
    "## Schritt 3: Löschen von mehrfachen Lehrzeichen"
   ]
  },
  {
   "cell_type": "code",
   "execution_count": 19,
   "id": "cdda98e2",
   "metadata": {},
   "outputs": [],
   "source": [
    "# entfernt alle führenden und endenen Lehrzeichen für die Spalten mit Texteinträgen\n",
    "for column in string_columns:\n",
    "    df_cars[column] = df_cars[column].str.strip()"
   ]
  },
  {
   "cell_type": "code",
   "execution_count": 20,
   "id": "002fb777-b069-41ac-b163-0a5ed8d54727",
   "metadata": {},
   "outputs": [],
   "source": [
    "df_cars.to_csv(cleaned_data_file, sep= \"\\t\", index=False)  "
   ]
  }
 ],
 "metadata": {
  "celltoolbar": "Tags",
  "kernelspec": {
   "display_name": "non-package-mode-4CfxTFO5-py3.12",
   "language": "python",
   "name": "python3"
  },
  "language_info": {
   "codemirror_mode": {
    "name": "ipython",
    "version": 3
   },
   "file_extension": ".py",
   "mimetype": "text/x-python",
   "name": "python",
   "nbconvert_exporter": "python",
   "pygments_lexer": "ipython3",
   "version": "3.12.3"
  }
 },
 "nbformat": 4,
 "nbformat_minor": 5
}
